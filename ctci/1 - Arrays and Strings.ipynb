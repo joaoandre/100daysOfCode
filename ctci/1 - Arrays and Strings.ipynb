{
 "cells": [
  {
   "cell_type": "markdown",
   "metadata": {},
   "source": [
    "# Arrays and Strings"
   ]
  },
  {
   "cell_type": "markdown",
   "metadata": {},
   "source": [
    "**1.1 IsUnique**. Implement an algorithm to determine if a string has all unique characters. What if you cannot use additional data structures?"
   ]
  },
  {
   "cell_type": "code",
   "execution_count": 18,
   "metadata": {},
   "outputs": [],
   "source": [
    "def is_unique_set(string):\n",
    "    return len(string) == len(set(string))\n",
    "\n",
    "def is_unique_array(string):\n",
    "    table = []\n",
    "    for c in string:\n",
    "        if c in table:\n",
    "            return False\n",
    "        table.append(c)\n",
    "    return True"
   ]
  },
  {
   "cell_type": "code",
   "execution_count": 20,
   "metadata": {},
   "outputs": [
    {
     "name": "stdout",
     "output_type": "stream",
     "text": [
      "String abcdefg is unique(With Set):  True\n",
      "String abcdefg is unique(With Array):  True\n",
      "String aaaaaa is unique(With Set):  False\n",
      "String aaaaaa is unique(With Array):  False\n"
     ]
    }
   ],
   "source": [
    "# Unique\n",
    "unique = 'abcdefg'\n",
    "not_unique = 'aaaaaa'\n",
    "print(f'String {unique} is unique(With Set): ', is_unique_set(unique))\n",
    "print(f'String {unique} is unique(With Array): ', is_unique_array(unique))\n",
    "\n",
    "print(f'String {not_unique} is unique(With Set): ', is_unique_set(not_unique))\n",
    "print(f'String {not_unique} is unique(With Array): ', is_unique_array(not_unique))"
   ]
  },
  {
   "cell_type": "markdown",
   "metadata": {},
   "source": [
    "**---------------------------------------------------------------------**"
   ]
  },
  {
   "cell_type": "markdown",
   "metadata": {},
   "source": [
    "**1.2 Check Permutation**. Given two strings,write a method to decide if one is a permutation of the\n",
    "other."
   ]
  },
  {
   "cell_type": "code",
   "execution_count": 23,
   "metadata": {},
   "outputs": [],
   "source": [
    "def check_permutation(strA, strB):\n",
    "    if len(strA) != len(strB):\n",
    "        return False\n",
    "    return sorted(strA) == sorted(strB)"
   ]
  },
  {
   "cell_type": "code",
   "execution_count": 28,
   "metadata": {},
   "outputs": [
    {
     "name": "stdout",
     "output_type": "stream",
     "text": [
      "String baba is permutation of abba:  True\n",
      "String bar is permutation of foo:  False\n"
     ]
    }
   ],
   "source": [
    "strA, strB = 'abba', 'baba'\n",
    "strC, strD = 'foo', 'bar'\n",
    "print(f'String {strB} is permutation of {strA}: ', check_permutation(strA, strB))\n",
    "print(f'String {strD} is permutation of {strC}: ', check_permutation(strC, strD))\n"
   ]
  },
  {
   "cell_type": "markdown",
   "metadata": {},
   "source": [
    "**---------------------------------------------------------------------**\n",
    "\n",
    "**1.3 URLify**. Write a method to replace all spaces in a string with '%20'. You may assume that the string has sufficient space at the end to hold the additional characters,and that you are given the \"true\" length of the string."
   ]
  },
  {
   "cell_type": "code",
   "execution_count": 30,
   "metadata": {},
   "outputs": [],
   "source": [
    "def urlify(string):\n",
    "    return string.strip().replace(' ', '%20')"
   ]
  },
  {
   "cell_type": "code",
   "execution_count": 31,
   "metadata": {},
   "outputs": [
    {
     "name": "stdout",
     "output_type": "stream",
     "text": [
      "String Mr John Smith     urlified is Mr%20John%20Smith.\n"
     ]
    }
   ],
   "source": [
    "string = \"Mr John Smith    \"\n",
    "string_urlify = urlify(string)\n",
    "\n",
    "print(f'String {string} urlified is {string_urlify}.')\n"
   ]
  },
  {
   "cell_type": "code",
   "execution_count": null,
   "metadata": {},
   "outputs": [],
   "source": []
  }
 ],
 "metadata": {
  "kernelspec": {
   "display_name": "Python 3",
   "language": "python",
   "name": "python3"
  },
  "language_info": {
   "codemirror_mode": {
    "name": "ipython",
    "version": 3
   },
   "file_extension": ".py",
   "mimetype": "text/x-python",
   "name": "python",
   "nbconvert_exporter": "python",
   "pygments_lexer": "ipython3",
   "version": "3.6.4"
  }
 },
 "nbformat": 4,
 "nbformat_minor": 2
}
